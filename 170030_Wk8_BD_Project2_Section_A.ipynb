{
 "cells": [
  {
   "cell_type": "code",
   "execution_count": 35,
   "metadata": {},
   "outputs": [],
   "source": [
    "'''\n",
    "@author Shivam Singal\n",
    "Project 2 Section A\n",
    "'''\n",
    "import pandas as pd\n",
    "\n",
    "train_data = pd.read_csv('train_u6lujuX_CVtuZ9i.csv')"
   ]
  },
  {
   "cell_type": "code",
   "execution_count": 36,
   "metadata": {},
   "outputs": [
    {
     "name": "stdout",
     "output_type": "stream",
     "text": [
      "1.a. Find out the number of male and female in loan applicants data:\n",
      "\n",
      "Male      489\n",
      "Female    112\n",
      "Name: Gender, dtype: int64\n",
      "------------------------------------------------------\n",
      "1.b. Find out the number of married and unmarried loan applicants:\n",
      "\n",
      "Yes    398\n",
      "No     213\n",
      "Name: Married, dtype: int64\n",
      "------------------------------------------------------\n",
      "1.c. Find out the overall dependent status in the dataset:\n",
      "\n",
      "0     345\n",
      "1     102\n",
      "2     101\n",
      "3+     51\n",
      "Name: Dependents, dtype: int64\n",
      "------------------------------------------------------\n",
      "1.d. Find the count how many loan applicants are graduate and non graduate:\n",
      "\n",
      "Graduate        480\n",
      "Not Graduate    134\n",
      "Name: Education, dtype: int64\n",
      "------------------------------------------------------\n",
      "1.e. Find out the count how many loan applicants property lies in urban, rural and semi-urban areas:\n",
      "\n",
      "Semiurban    233\n",
      "Urban        202\n",
      "Rural        179\n",
      "Name: Property_Area, dtype: int64\n",
      "\n"
     ]
    }
   ],
   "source": [
    "#1.  Let us analyse and visualize the categorical attribute of the given train dataset using single variable.   \n",
    "\n",
    "#Find out the number of male and female in loan applicants data.\n",
    "count_Gender = train_data['Gender'].value_counts()\n",
    "print(\"1.a. Find out the number of male and female in loan applicants data:\\n\\n\"+str(count_Gender)+\"\\n------------------------------------------------------\")\n",
    "\n",
    "#Find out the number of married and unmarried loan applicants.\n",
    "count_Married= train_data['Married'].value_counts()\n",
    "print(\"1.b. Find out the number of married and unmarried loan applicants:\\n\\n\"+str(count_Married)+\"\\n------------------------------------------------------\")\n",
    "\n",
    "#Find out the overall dependent status in the dataset.\n",
    "count_Dependents= train_data['Dependents'].value_counts()\n",
    "print(\"1.c. Find out the overall dependent status in the dataset:\\n\\n\"+str(count_Dependents)+\"\\n------------------------------------------------------\")\n",
    "\n",
    "#Find the count how many loan applicants are graduate and non graduate.\n",
    "count_Education= train_data[\"Education\"].value_counts()\n",
    "print(\"1.d. Find the count how many loan applicants are graduate and non graduate:\\n\\n\"+str(count_Education)+\"\\n------------------------------------------------------\")\n",
    "\n",
    "#Find out the count how many loan applicants property lies in urban, rural and semi-urban areas.\n",
    "count_Property_Area= train_data[\"Property_Area\"].value_counts()\n",
    "print(\"1.e. Find out the count how many loan applicants property lies in urban, rural and semi-urban areas:\\n\\n\"+str(count_Property_Area)+\"\\n\")\n"
   ]
  },
  {
   "cell_type": "markdown",
   "metadata": {},
   "source": [
    "Q2 .  What conclusions are you derived from the single variable analysis?\n",
    "\n",
    "I can conclude following points from the single variable analysis:\n",
    "• The loan of 422(around 69%) people out of 614 was approved.\n",
    "• There are male (81%) and female (19%) have applied for loan.\n",
    "• 65 % of married people and 35 % of unmarried people have applied for loan.\n",
    "• Among 582 people only 14% are self employed and rest of the 86% are not selfemployed.\n",
    "• Around 84% applicants have repaid their debts.\n",
    "• Around 58% people have 0 dependent.\n",
    "• Around 17% people have 1 dependent.\n",
    "• Around 17% people have 2 dependents.\n",
    "• Around 8% people have 3+ dependents.\n",
    "• 78 % people are graduated and 22% are not graduated.\n",
    "• Around 38%, 33% and 29% are from semi-urban, urban and rural area respectively."
   ]
  },
  {
   "cell_type": "code",
   "execution_count": 1,
   "metadata": {},
   "outputs": [],
   "source": [
    "#3.  To visualize and plot the distribution plot of all numerical attributes of the given train dataset i.e. ApplicantIncome,  \n",
    "#CoApplicantIncome and LoanAmount.        \n"
   ]
  },
  {
   "cell_type": "code",
   "execution_count": 2,
   "metadata": {},
   "outputs": [],
   "source": [
    "#4. Also visualize and plot the Question-1 based on Loan_status of loan applicant (Multi variable analysis).   "
   ]
  },
  {
   "cell_type": "markdown",
   "metadata": {},
   "source": [
    "Q5. What conclusions are you derived from the multi variable analysis?    \n",
    "\n",
    " I can conclude following points from the multi variable analysis:\n",
    "• Proportion of male applicants is higher for the approved loans.\n",
    "• Proportion of married applicants is higher for the approved loans.\n",
    "• Proportion of graduate applicants is higher for the approved loans.\n",
    "• People with credit history as 1 are more likely to get their loans approved.\n",
    "• Proportion of loans getting approved in semi-urban area is higher as compared to\n",
    "that in rural and urban areas.\n",
    "• Proportion of loans getting approved for applicants having low total income is very\n",
    "less as compared to that of applicants with average, high and very high income.\n",
    "• Proportion of approved loans is higher for low and average loan amount as\n",
    "compared to that of high loan amount"
   ]
  }
 ],
 "metadata": {
  "kernelspec": {
   "display_name": "Python 3",
   "language": "python",
   "name": "python3"
  },
  "language_info": {
   "codemirror_mode": {
    "name": "ipython",
    "version": 3
   },
   "file_extension": ".py",
   "mimetype": "text/x-python",
   "name": "python",
   "nbconvert_exporter": "python",
   "pygments_lexer": "ipython3",
   "version": "3.7.3"
  }
 },
 "nbformat": 4,
 "nbformat_minor": 2
}
